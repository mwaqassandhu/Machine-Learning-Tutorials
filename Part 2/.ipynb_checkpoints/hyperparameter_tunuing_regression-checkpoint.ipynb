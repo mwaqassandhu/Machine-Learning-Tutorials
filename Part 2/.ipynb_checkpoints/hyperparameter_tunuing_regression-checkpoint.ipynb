{
 "cells": [
  {
   "cell_type": "markdown",
   "id": "55d1270d",
   "metadata": {},
   "source": [
    "## Hyperparameter Tuning\n",
    "\n",
    "Grid Search and Randomized Search are techniques used for hyperparameter tuning in machine learning. They help you find the best combination of hyperparameters for your model by systematically searching through a predefined set of hyperparameters.\n",
    "\n",
    "**Grid Search**:\n",
    "\n",
    "1. **What is Grid Search?** Grid Search is a hyperparameter optimization technique that exhaustively searches all possible combinations of hyperparameter values within a predefined grid.\n",
    "\n",
    "2. **How does it work?** You specify a set of hyperparameters and their possible values in a grid or list. Grid Search then trains and evaluates the model using each combination of hyperparameters through cross-validation.\n",
    "\n",
    "3. **Pros**:\n",
    "   - Guarantees that you will find the best combination of hyperparameters within the search space.\n",
    "   - Provides a systematic and structured approach to hyperparameter tuning.\n",
    "\n",
    "4. **Cons**:\n",
    "   - Can be computationally expensive when the search space is large.\n",
    "   - May not be suitable for datasets with a large number of features or complex models.\n",
    "\n",
    "5. **Example**:\n",
    "   ```python\n",
    "   param_grid = {\n",
    "       'n_estimators': [50, 100, 150],\n",
    "       'max_depth': [None, 10, 20, 30],\n",
    "       'min_samples_split': [2, 5, 10],\n",
    "       'min_samples_leaf': [1, 2, 4]\n",
    "   }\n",
    "   grid_search = GridSearchCV(estimator=model, param_grid=param_grid, cv=5, scoring='accuracy')\n",
    "   grid_search.fit(X_train, y_train)\n",
    "   ```\n",
    "\n",
    "**Randomized Search**:\n",
    "\n",
    "1. **What is Randomized Search?** Randomized Search is a hyperparameter optimization technique that randomly samples a specified number of combinations of hyperparameters from a predefined distribution.\n",
    "\n",
    "2. **How does it work?** Instead of exploring all possible combinations like Grid Search, Randomized Search randomly selects combinations from the defined distribution. It allows you to explore a larger search space more efficiently.\n",
    "\n",
    "3. **Pros**:\n",
    "   - More computationally efficient than Grid Search, especially for large search spaces.\n",
    "   - Provides a good balance between exploration and exploitation of hyperparameters.\n",
    "\n",
    "4. **Cons**:\n",
    "   - It's not guaranteed to find the best hyperparameters but often finds good ones in a shorter time.\n",
    "\n",
    "5. **Example**:\n",
    "   ```python\n",
    "   param_dist = {\n",
    "       'n_estimators': np.arange(50, 151, 10),\n",
    "       'max_depth': [None] + list(np.arange(10, 31, 5)),\n",
    "       'min_samples_split': [2, 5, 10],\n",
    "       'min_samples_leaf': [1, 2, 4]\n",
    "   }\n",
    "   random_search = RandomizedSearchCV(estimator=model, param_distributions=param_dist, n_iter=100, cv=5, scoring='accuracy')\n",
    "   random_search.fit(X_train, y_train)\n",
    "   ```\n",
    "\n",
    "In summary, Grid Search explores all combinations of hyperparameters, while Randomized Search randomly samples combinations. Grid Search guarantees finding the best combination but may be computationally expensive. Randomized Search is more efficient and often finds good combinations quickly. The choice between them depends on the computational resources available and the complexity of your hyperparameter search space."
   ]
  },
  {
   "cell_type": "markdown",
   "id": "813d23a2",
   "metadata": {},
   "source": [
    "## Scikit-Learn built-in functions for hyperparameter tuning:\n",
    "\n",
    "`RandomizedSearchCV` and `GridSearchCV` are hyperparameter tuning techniques provided by scikit-learn for optimizing machine learning models. They help you systematically search through different combinations of hyperparameters to find the best set of hyperparameters for your model. Here, I'll explain these two techniques and the meaning of their parameters:\n",
    "\n",
    "**GridSearchCV**:\n",
    "\n",
    "- **What it is**: GridSearchCV is a technique that performs an exhaustive search over a specified hyperparameter grid, trying all possible combinations.\n",
    "\n",
    "- **Parameters**:\n",
    "   - `estimator`: The machine learning model for which you want to tune hyperparameters.\n",
    "   - `param_grid`: A dictionary or list of dictionaries specifying the hyperparameter grid to search over. Each key in the dictionary represents a hyperparameter, and the corresponding value is a list of possible values for that hyperparameter.\n",
    "   - `scoring`: The scoring metric used to evaluate the model's performance.\n",
    "   - `cv`: The number of cross-validation folds to use during hyperparameter tuning.\n",
    "   - `n_jobs`: The number of CPU cores to use for parallelization (set to -1 to use all available cores).\n",
    "   - `verbose`: Controls the verbosity of the output (higher values provide more detailed output).\n",
    "   - `return_train_score`: Whether to include training scores in the results.\n",
    "\n",
    "**RandomizedSearchCV**:\n",
    "\n",
    "- **What it is**: RandomizedSearchCV is a technique that performs a randomized search over a specified hyperparameter distribution, randomly sampling a specified number of combinations.\n",
    "\n",
    "- **Parameters**:\n",
    "   - `estimator`: The machine learning model for which you want to tune hyperparameters.\n",
    "   - `param_distributions`: A dictionary specifying the hyperparameter distributions to sample from. Each key represents a hyperparameter, and the corresponding value is a distribution from which values will be sampled.\n",
    "   - `n_iter`: The number of random parameter combinations to try.\n",
    "   - `scoring`: The scoring metric used to evaluate the model's performance.\n",
    "   - `cv`: The number of cross-validation folds to use during hyperparameter tuning.\n",
    "   - `n_jobs`: The number of CPU cores to use for parallelization (set to -1 to use all available cores).\n",
    "   - `verbose`: Controls the verbosity of the output (higher values provide more detailed output).\n",
    "   - `return_train_score`: Whether to include training scores in the results.\n",
    "\n",
    "**Meaning of Parameters**:\n",
    "\n",
    "1. `estimator`: This is the machine learning model that you want to optimize, such as a classifier or regressor.\n",
    "\n",
    "2. `param_grid` (in GridSearchCV) and `param_distributions` (in RandomizedSearchCV): These parameters specify the hyperparameter search space. You define a dictionary where each key is a hyperparameter name, and the associated value is a list of possible values (GridSearchCV) or a probability distribution (RandomizedSearchCV) from which values will be sampled.\n",
    "\n",
    "3. `scoring`: This parameter determines the evaluation metric used to assess the model's performance during hyperparameter tuning. Common choices include accuracy, mean squared error (MSE), and more, depending on the problem.\n",
    "\n",
    "4. `cv`: It specifies the number of cross-validation folds to use during the hyperparameter search. Cross-validation helps estimate the model's performance on unseen data.\n",
    "\n",
    "5. `n_jobs`: This parameter controls parallelization. You can set it to -1 to utilize all available CPU cores for faster hyperparameter search.\n",
    "\n",
    "6. `verbose`: This parameter controls the verbosity of the output during the hyperparameter search. Higher values provide more detailed information about the search process.\n",
    "\n",
    "7. `return_train_score`: When set to `True`, it includes training scores in the results, providing information on how well the model fits the training data for each hyperparameter combination.\n",
    "\n",
    "These parameters allow you to tailor the hyperparameter search process to your specific problem and computational resources. GridSearchCV performs an exhaustive search over a specified grid, while RandomizedSearchCV samples randomly from specified distributions. The choice between them depends on the search space size and available resources."
   ]
  },
  {
   "cell_type": "code",
   "execution_count": 2,
   "id": "b44c0c74",
   "metadata": {},
   "outputs": [],
   "source": [
    "from sklearn.datasets import load_diabetes\n",
    "from sklearn.model_selection import train_test_split, GridSearchCV, RandomizedSearchCV\n",
    "from sklearn.linear_model import Ridge\n",
    "import numpy as np\n",
    "\n",
    "# Load the diabetes dataset\n",
    "diabetes = load_diabetes()\n",
    "X = diabetes.data\n",
    "y = diabetes.target\n",
    "\n",
    "# Split the dataset into training and testing sets\n",
    "X_train, X_test, y_train, y_test = train_test_split(X, y, test_size=0.2, random_state=42)\n"
   ]
  },
  {
   "cell_type": "code",
   "execution_count": 4,
   "id": "f0e9e018",
   "metadata": {},
   "outputs": [],
   "source": [
    "\n",
    "# Define the alpha values for Ridge Regression\n",
    "# alphas = [1.e-04 1.e-03 1.e-02 1.e-01 1.e+00 1.e+01 1.e+02 1.e+03 1.e+04]\n",
    "alphas = np.logspace(-4, 4, 9)\n"
   ]
  },
  {
   "cell_type": "code",
   "execution_count": 7,
   "id": "9d4c2fac",
   "metadata": {},
   "outputs": [
    {
     "name": "stdout",
     "output_type": "stream",
     "text": [
      "Fitting 5 folds for each of 9 candidates, totalling 45 fits\n"
     ]
    },
    {
     "data": {
      "text/html": [
       "<style>#sk-container-id-2 {color: black;background-color: white;}#sk-container-id-2 pre{padding: 0;}#sk-container-id-2 div.sk-toggleable {background-color: white;}#sk-container-id-2 label.sk-toggleable__label {cursor: pointer;display: block;width: 100%;margin-bottom: 0;padding: 0.3em;box-sizing: border-box;text-align: center;}#sk-container-id-2 label.sk-toggleable__label-arrow:before {content: \"▸\";float: left;margin-right: 0.25em;color: #696969;}#sk-container-id-2 label.sk-toggleable__label-arrow:hover:before {color: black;}#sk-container-id-2 div.sk-estimator:hover label.sk-toggleable__label-arrow:before {color: black;}#sk-container-id-2 div.sk-toggleable__content {max-height: 0;max-width: 0;overflow: hidden;text-align: left;background-color: #f0f8ff;}#sk-container-id-2 div.sk-toggleable__content pre {margin: 0.2em;color: black;border-radius: 0.25em;background-color: #f0f8ff;}#sk-container-id-2 input.sk-toggleable__control:checked~div.sk-toggleable__content {max-height: 200px;max-width: 100%;overflow: auto;}#sk-container-id-2 input.sk-toggleable__control:checked~label.sk-toggleable__label-arrow:before {content: \"▾\";}#sk-container-id-2 div.sk-estimator input.sk-toggleable__control:checked~label.sk-toggleable__label {background-color: #d4ebff;}#sk-container-id-2 div.sk-label input.sk-toggleable__control:checked~label.sk-toggleable__label {background-color: #d4ebff;}#sk-container-id-2 input.sk-hidden--visually {border: 0;clip: rect(1px 1px 1px 1px);clip: rect(1px, 1px, 1px, 1px);height: 1px;margin: -1px;overflow: hidden;padding: 0;position: absolute;width: 1px;}#sk-container-id-2 div.sk-estimator {font-family: monospace;background-color: #f0f8ff;border: 1px dotted black;border-radius: 0.25em;box-sizing: border-box;margin-bottom: 0.5em;}#sk-container-id-2 div.sk-estimator:hover {background-color: #d4ebff;}#sk-container-id-2 div.sk-parallel-item::after {content: \"\";width: 100%;border-bottom: 1px solid gray;flex-grow: 1;}#sk-container-id-2 div.sk-label:hover label.sk-toggleable__label {background-color: #d4ebff;}#sk-container-id-2 div.sk-serial::before {content: \"\";position: absolute;border-left: 1px solid gray;box-sizing: border-box;top: 0;bottom: 0;left: 50%;z-index: 0;}#sk-container-id-2 div.sk-serial {display: flex;flex-direction: column;align-items: center;background-color: white;padding-right: 0.2em;padding-left: 0.2em;position: relative;}#sk-container-id-2 div.sk-item {position: relative;z-index: 1;}#sk-container-id-2 div.sk-parallel {display: flex;align-items: stretch;justify-content: center;background-color: white;position: relative;}#sk-container-id-2 div.sk-item::before, #sk-container-id-2 div.sk-parallel-item::before {content: \"\";position: absolute;border-left: 1px solid gray;box-sizing: border-box;top: 0;bottom: 0;left: 50%;z-index: -1;}#sk-container-id-2 div.sk-parallel-item {display: flex;flex-direction: column;z-index: 1;position: relative;background-color: white;}#sk-container-id-2 div.sk-parallel-item:first-child::after {align-self: flex-end;width: 50%;}#sk-container-id-2 div.sk-parallel-item:last-child::after {align-self: flex-start;width: 50%;}#sk-container-id-2 div.sk-parallel-item:only-child::after {width: 0;}#sk-container-id-2 div.sk-dashed-wrapped {border: 1px dashed gray;margin: 0 0.4em 0.5em 0.4em;box-sizing: border-box;padding-bottom: 0.4em;background-color: white;}#sk-container-id-2 div.sk-label label {font-family: monospace;font-weight: bold;display: inline-block;line-height: 1.2em;}#sk-container-id-2 div.sk-label-container {text-align: center;}#sk-container-id-2 div.sk-container {/* jupyter's `normalize.less` sets `[hidden] { display: none; }` but bootstrap.min.css set `[hidden] { display: none !important; }` so we also need the `!important` here to be able to override the default hidden behavior on the sphinx rendered scikit-learn.org. See: https://github.com/scikit-learn/scikit-learn/issues/21755 */display: inline-block !important;position: relative;}#sk-container-id-2 div.sk-text-repr-fallback {display: none;}</style><div id=\"sk-container-id-2\" class=\"sk-top-container\"><div class=\"sk-text-repr-fallback\"><pre>GridSearchCV(cv=5, estimator=Ridge(), n_jobs=-1,\n",
       "             param_grid={&#x27;alpha&#x27;: array([1.e-04, 1.e-03, 1.e-02, 1.e-01, 1.e+00, 1.e+01, 1.e+02, 1.e+03,\n",
       "       1.e+04])},\n",
       "             scoring=&#x27;neg_mean_squared_error&#x27;, verbose=1)</pre><b>In a Jupyter environment, please rerun this cell to show the HTML representation or trust the notebook. <br />On GitHub, the HTML representation is unable to render, please try loading this page with nbviewer.org.</b></div><div class=\"sk-container\" hidden><div class=\"sk-item sk-dashed-wrapped\"><div class=\"sk-label-container\"><div class=\"sk-label sk-toggleable\"><input class=\"sk-toggleable__control sk-hidden--visually\" id=\"sk-estimator-id-4\" type=\"checkbox\" ><label for=\"sk-estimator-id-4\" class=\"sk-toggleable__label sk-toggleable__label-arrow\">GridSearchCV</label><div class=\"sk-toggleable__content\"><pre>GridSearchCV(cv=5, estimator=Ridge(), n_jobs=-1,\n",
       "             param_grid={&#x27;alpha&#x27;: array([1.e-04, 1.e-03, 1.e-02, 1.e-01, 1.e+00, 1.e+01, 1.e+02, 1.e+03,\n",
       "       1.e+04])},\n",
       "             scoring=&#x27;neg_mean_squared_error&#x27;, verbose=1)</pre></div></div></div><div class=\"sk-parallel\"><div class=\"sk-parallel-item\"><div class=\"sk-item\"><div class=\"sk-label-container\"><div class=\"sk-label sk-toggleable\"><input class=\"sk-toggleable__control sk-hidden--visually\" id=\"sk-estimator-id-5\" type=\"checkbox\" ><label for=\"sk-estimator-id-5\" class=\"sk-toggleable__label sk-toggleable__label-arrow\">estimator: Ridge</label><div class=\"sk-toggleable__content\"><pre>Ridge()</pre></div></div></div><div class=\"sk-serial\"><div class=\"sk-item\"><div class=\"sk-estimator sk-toggleable\"><input class=\"sk-toggleable__control sk-hidden--visually\" id=\"sk-estimator-id-6\" type=\"checkbox\" ><label for=\"sk-estimator-id-6\" class=\"sk-toggleable__label sk-toggleable__label-arrow\">Ridge</label><div class=\"sk-toggleable__content\"><pre>Ridge()</pre></div></div></div></div></div></div></div></div></div></div>"
      ],
      "text/plain": [
       "GridSearchCV(cv=5, estimator=Ridge(), n_jobs=-1,\n",
       "             param_grid={'alpha': array([1.e-04, 1.e-03, 1.e-02, 1.e-01, 1.e+00, 1.e+01, 1.e+02, 1.e+03,\n",
       "       1.e+04])},\n",
       "             scoring='neg_mean_squared_error', verbose=1)"
      ]
     },
     "execution_count": 7,
     "metadata": {},
     "output_type": "execute_result"
    }
   ],
   "source": [
    "\n",
    "# Create the Ridge Regressor model\n",
    "ridge_model = Ridge()\n",
    "\n",
    "# Grid Search for Ridge Regression\n",
    "param_grid = {'alpha': alphas}\n",
    "grid_search = GridSearchCV(estimator=ridge_model, param_grid=param_grid,\n",
    "                           cv=5, scoring='neg_mean_squared_error', verbose=1, n_jobs=-1)\n",
    "grid_search.fit(X_train, y_train)\n"
   ]
  },
  {
   "cell_type": "markdown",
   "id": "c687e567",
   "metadata": {},
   "source": [
    "# Randomized Search for Ridge Regression\n"
   ]
  },
  {
   "cell_type": "code",
   "execution_count": 8,
   "id": "b64ca0e7",
   "metadata": {},
   "outputs": [
    {
     "name": "stdout",
     "output_type": "stream",
     "text": [
      "Fitting 5 folds for each of 100 candidates, totalling 500 fits\n"
     ]
    },
    {
     "data": {
      "text/html": [
       "<style>#sk-container-id-3 {color: black;background-color: white;}#sk-container-id-3 pre{padding: 0;}#sk-container-id-3 div.sk-toggleable {background-color: white;}#sk-container-id-3 label.sk-toggleable__label {cursor: pointer;display: block;width: 100%;margin-bottom: 0;padding: 0.3em;box-sizing: border-box;text-align: center;}#sk-container-id-3 label.sk-toggleable__label-arrow:before {content: \"▸\";float: left;margin-right: 0.25em;color: #696969;}#sk-container-id-3 label.sk-toggleable__label-arrow:hover:before {color: black;}#sk-container-id-3 div.sk-estimator:hover label.sk-toggleable__label-arrow:before {color: black;}#sk-container-id-3 div.sk-toggleable__content {max-height: 0;max-width: 0;overflow: hidden;text-align: left;background-color: #f0f8ff;}#sk-container-id-3 div.sk-toggleable__content pre {margin: 0.2em;color: black;border-radius: 0.25em;background-color: #f0f8ff;}#sk-container-id-3 input.sk-toggleable__control:checked~div.sk-toggleable__content {max-height: 200px;max-width: 100%;overflow: auto;}#sk-container-id-3 input.sk-toggleable__control:checked~label.sk-toggleable__label-arrow:before {content: \"▾\";}#sk-container-id-3 div.sk-estimator input.sk-toggleable__control:checked~label.sk-toggleable__label {background-color: #d4ebff;}#sk-container-id-3 div.sk-label input.sk-toggleable__control:checked~label.sk-toggleable__label {background-color: #d4ebff;}#sk-container-id-3 input.sk-hidden--visually {border: 0;clip: rect(1px 1px 1px 1px);clip: rect(1px, 1px, 1px, 1px);height: 1px;margin: -1px;overflow: hidden;padding: 0;position: absolute;width: 1px;}#sk-container-id-3 div.sk-estimator {font-family: monospace;background-color: #f0f8ff;border: 1px dotted black;border-radius: 0.25em;box-sizing: border-box;margin-bottom: 0.5em;}#sk-container-id-3 div.sk-estimator:hover {background-color: #d4ebff;}#sk-container-id-3 div.sk-parallel-item::after {content: \"\";width: 100%;border-bottom: 1px solid gray;flex-grow: 1;}#sk-container-id-3 div.sk-label:hover label.sk-toggleable__label {background-color: #d4ebff;}#sk-container-id-3 div.sk-serial::before {content: \"\";position: absolute;border-left: 1px solid gray;box-sizing: border-box;top: 0;bottom: 0;left: 50%;z-index: 0;}#sk-container-id-3 div.sk-serial {display: flex;flex-direction: column;align-items: center;background-color: white;padding-right: 0.2em;padding-left: 0.2em;position: relative;}#sk-container-id-3 div.sk-item {position: relative;z-index: 1;}#sk-container-id-3 div.sk-parallel {display: flex;align-items: stretch;justify-content: center;background-color: white;position: relative;}#sk-container-id-3 div.sk-item::before, #sk-container-id-3 div.sk-parallel-item::before {content: \"\";position: absolute;border-left: 1px solid gray;box-sizing: border-box;top: 0;bottom: 0;left: 50%;z-index: -1;}#sk-container-id-3 div.sk-parallel-item {display: flex;flex-direction: column;z-index: 1;position: relative;background-color: white;}#sk-container-id-3 div.sk-parallel-item:first-child::after {align-self: flex-end;width: 50%;}#sk-container-id-3 div.sk-parallel-item:last-child::after {align-self: flex-start;width: 50%;}#sk-container-id-3 div.sk-parallel-item:only-child::after {width: 0;}#sk-container-id-3 div.sk-dashed-wrapped {border: 1px dashed gray;margin: 0 0.4em 0.5em 0.4em;box-sizing: border-box;padding-bottom: 0.4em;background-color: white;}#sk-container-id-3 div.sk-label label {font-family: monospace;font-weight: bold;display: inline-block;line-height: 1.2em;}#sk-container-id-3 div.sk-label-container {text-align: center;}#sk-container-id-3 div.sk-container {/* jupyter's `normalize.less` sets `[hidden] { display: none; }` but bootstrap.min.css set `[hidden] { display: none !important; }` so we also need the `!important` here to be able to override the default hidden behavior on the sphinx rendered scikit-learn.org. See: https://github.com/scikit-learn/scikit-learn/issues/21755 */display: inline-block !important;position: relative;}#sk-container-id-3 div.sk-text-repr-fallback {display: none;}</style><div id=\"sk-container-id-3\" class=\"sk-top-container\"><div class=\"sk-text-repr-fallback\"><pre>RandomizedSearchCV(cv=5, estimator=Ridge(), n_iter=100, n_jobs=-1,\n",
       "                   param_distributions={&#x27;alpha&#x27;: array([9014.84650832,   92.0034633 , 3867.781088  , 4278.60946797,\n",
       "       8018.61649518, 5706.41200387, 5907.42949825, 1179.51677164,\n",
       "       3512.91717709, 9418.29786983, 9935.55315683, 8464.15926789,\n",
       "       4024.63513514, 4869.97775744, 4385.27717631, 8406.06562957,\n",
       "        107.29281614, 3107.67386902, 8936....\n",
       "       2815.40941804, 9114.5922629 , 8300.95947316, 3576.12724991,\n",
       "       6407.77045145,  687.73258485,  688.07812835, 6806.26874297,\n",
       "       3229.69909142, 3890.18577615, 4204.62950619, 8162.921032  ,\n",
       "       9195.20686885, 8817.91434184, 3012.06259062,  574.71999577,\n",
       "       6025.40672853, 4648.49386346, 6011.7885132 ,  238.22547417,\n",
       "       8973.14014944, 6586.6055365 , 9341.54326318, 5690.41013429])},\n",
       "                   random_state=42, scoring=&#x27;neg_mean_squared_error&#x27;,\n",
       "                   verbose=1)</pre><b>In a Jupyter environment, please rerun this cell to show the HTML representation or trust the notebook. <br />On GitHub, the HTML representation is unable to render, please try loading this page with nbviewer.org.</b></div><div class=\"sk-container\" hidden><div class=\"sk-item sk-dashed-wrapped\"><div class=\"sk-label-container\"><div class=\"sk-label sk-toggleable\"><input class=\"sk-toggleable__control sk-hidden--visually\" id=\"sk-estimator-id-7\" type=\"checkbox\" ><label for=\"sk-estimator-id-7\" class=\"sk-toggleable__label sk-toggleable__label-arrow\">RandomizedSearchCV</label><div class=\"sk-toggleable__content\"><pre>RandomizedSearchCV(cv=5, estimator=Ridge(), n_iter=100, n_jobs=-1,\n",
       "                   param_distributions={&#x27;alpha&#x27;: array([9014.84650832,   92.0034633 , 3867.781088  , 4278.60946797,\n",
       "       8018.61649518, 5706.41200387, 5907.42949825, 1179.51677164,\n",
       "       3512.91717709, 9418.29786983, 9935.55315683, 8464.15926789,\n",
       "       4024.63513514, 4869.97775744, 4385.27717631, 8406.06562957,\n",
       "        107.29281614, 3107.67386902, 8936....\n",
       "       2815.40941804, 9114.5922629 , 8300.95947316, 3576.12724991,\n",
       "       6407.77045145,  687.73258485,  688.07812835, 6806.26874297,\n",
       "       3229.69909142, 3890.18577615, 4204.62950619, 8162.921032  ,\n",
       "       9195.20686885, 8817.91434184, 3012.06259062,  574.71999577,\n",
       "       6025.40672853, 4648.49386346, 6011.7885132 ,  238.22547417,\n",
       "       8973.14014944, 6586.6055365 , 9341.54326318, 5690.41013429])},\n",
       "                   random_state=42, scoring=&#x27;neg_mean_squared_error&#x27;,\n",
       "                   verbose=1)</pre></div></div></div><div class=\"sk-parallel\"><div class=\"sk-parallel-item\"><div class=\"sk-item\"><div class=\"sk-label-container\"><div class=\"sk-label sk-toggleable\"><input class=\"sk-toggleable__control sk-hidden--visually\" id=\"sk-estimator-id-8\" type=\"checkbox\" ><label for=\"sk-estimator-id-8\" class=\"sk-toggleable__label sk-toggleable__label-arrow\">estimator: Ridge</label><div class=\"sk-toggleable__content\"><pre>Ridge()</pre></div></div></div><div class=\"sk-serial\"><div class=\"sk-item\"><div class=\"sk-estimator sk-toggleable\"><input class=\"sk-toggleable__control sk-hidden--visually\" id=\"sk-estimator-id-9\" type=\"checkbox\" ><label for=\"sk-estimator-id-9\" class=\"sk-toggleable__label sk-toggleable__label-arrow\">Ridge</label><div class=\"sk-toggleable__content\"><pre>Ridge()</pre></div></div></div></div></div></div></div></div></div></div>"
      ],
      "text/plain": [
       "RandomizedSearchCV(cv=5, estimator=Ridge(), n_iter=100, n_jobs=-1,\n",
       "                   param_distributions={'alpha': array([9014.84650832,   92.0034633 , 3867.781088  , 4278.60946797,\n",
       "       8018.61649518, 5706.41200387, 5907.42949825, 1179.51677164,\n",
       "       3512.91717709, 9418.29786983, 9935.55315683, 8464.15926789,\n",
       "       4024.63513514, 4869.97775744, 4385.27717631, 8406.06562957,\n",
       "        107.29281614, 3107.67386902, 8936....\n",
       "       2815.40941804, 9114.5922629 , 8300.95947316, 3576.12724991,\n",
       "       6407.77045145,  687.73258485,  688.07812835, 6806.26874297,\n",
       "       3229.69909142, 3890.18577615, 4204.62950619, 8162.921032  ,\n",
       "       9195.20686885, 8817.91434184, 3012.06259062,  574.71999577,\n",
       "       6025.40672853, 4648.49386346, 6011.7885132 ,  238.22547417,\n",
       "       8973.14014944, 6586.6055365 , 9341.54326318, 5690.41013429])},\n",
       "                   random_state=42, scoring='neg_mean_squared_error',\n",
       "                   verbose=1)"
      ]
     },
     "execution_count": 8,
     "metadata": {},
     "output_type": "execute_result"
    }
   ],
   "source": [
    "# Randomized Search for Ridge Regression\n",
    "param_dist = {'alpha': np.random.uniform(1e-4, 1e4, 100)}\n",
    "random_search = RandomizedSearchCV(estimator=ridge_model, param_distributions=param_dist,\n",
    "                                   n_iter=100, cv=5, scoring='neg_mean_squared_error',\n",
    "                                   verbose=1, random_state=42, n_jobs=-1)\n",
    "random_search.fit(X_train, y_train)\n"
   ]
  },
  {
   "cell_type": "code",
   "execution_count": 9,
   "id": "971da7c2",
   "metadata": {},
   "outputs": [
    {
     "name": "stdout",
     "output_type": "stream",
     "text": [
      "Ridge Regression - Grid Search:\n",
      "Best Alpha: 0.1\n",
      "Root Mean Squared Error (RMSE): 53.446111997699646\n",
      "R-squared (R2): 0.46085219464119265\n",
      "\n",
      "Ridge Regression - Randomized Search:\n",
      "Best Alpha: 92.00346330034739\n",
      "Root Mean Squared Error (RMSE): 72.2707813049019\n",
      "R-squared (R2): 0.014172096546057777\n"
     ]
    }
   ],
   "source": [
    "# Get the best hyperparameters and models\n",
    "best_params_grid = grid_search.best_params_\n",
    "best_model_grid = grid_search.best_estimator_\n",
    "best_params_random = random_search.best_params_\n",
    "best_model_random = random_search.best_estimator_\n",
    "\n",
    "# Evaluate the best models on the test data\n",
    "y_pred_grid = best_model_grid.predict(X_test)\n",
    "y_pred_random = best_model_random.predict(X_test)\n",
    "\n",
    "# Calculate and print the performance metrics (e.g., RMSE, R-squared)\n",
    "from sklearn.metrics import mean_squared_error, r2_score\n",
    "rmse_grid = mean_squared_error(y_test, y_pred_grid, squared=False)\n",
    "r2_grid = r2_score(y_test, y_pred_grid)\n",
    "rmse_random = mean_squared_error(y_test, y_pred_random, squared=False)\n",
    "r2_random = r2_score(y_test, y_pred_random)\n",
    "\n",
    "print(\"Ridge Regression - Grid Search:\")\n",
    "print(\"Best Alpha:\", best_params_grid['alpha'])\n",
    "print(\"Root Mean Squared Error (RMSE):\", rmse_grid)\n",
    "print(\"R-squared (R2):\", r2_grid)\n",
    "\n",
    "print(\"\\nRidge Regression - Randomized Search:\")\n",
    "print(\"Best Alpha:\", best_params_random['alpha'])\n",
    "print(\"Root Mean Squared Error (RMSE):\", rmse_random)\n",
    "print(\"R-squared (R2):\", r2_random)\n"
   ]
  }
 ],
 "metadata": {
  "kernelspec": {
   "display_name": "Python 3 (ipykernel)",
   "language": "python",
   "name": "python3"
  },
  "language_info": {
   "codemirror_mode": {
    "name": "ipython",
    "version": 3
   },
   "file_extension": ".py",
   "mimetype": "text/x-python",
   "name": "python",
   "nbconvert_exporter": "python",
   "pygments_lexer": "ipython3",
   "version": "3.10.9"
  }
 },
 "nbformat": 4,
 "nbformat_minor": 5
}
