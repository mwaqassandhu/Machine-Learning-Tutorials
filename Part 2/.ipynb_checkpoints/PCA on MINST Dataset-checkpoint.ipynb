{
 "cells": [
  {
   "cell_type": "markdown",
   "id": "318f9e42",
   "metadata": {},
   "source": [
    "## PCA Tutorial\n",
    "Performing PCA (Principal Component Analysis) on a dataset is a common technique to reduce the dimensionality of the dataset while preserving its essential information. In this tutorial, we will use Python and the scikit-learn library to perform PCA on the MNIST dataset.\n",
    "\n",
    "### Prerequisites\n",
    "\n",
    "Before getting started, ensure that you have the following libraries installed:\n",
    "\n",
    "- NumPy: for numerical operations\n",
    "- scikit-learn: for PCA implementation and dataset\n",
    "- Matplotlib: for data visualization\n",
    "\n",
    "You can install these libraries using pip:\n",
    "\n",
    "```bash\n",
    "pip install numpy scikit-learn matplotlib\n",
    "```\n",
    "\n",
    "### Step 1: Import Libraries and Load the MNIST Dataset\n",
    "\n",
    "We'll use the scikit-learn library to load a subset of the MNIST dataset, which consists of handwritten digits. For this example, we will use a smaller subset of the data to speed up processing.\n"
   ]
  },
  {
   "cell_type": "code",
   "execution_count": 1,
   "id": "f6740e5b",
   "metadata": {},
   "outputs": [],
   "source": [
    "import numpy as np\n",
    "import matplotlib.pyplot as plt\n",
    "from sklearn.decomposition import PCA\n",
    "import tensorflow as tf\n"
   ]
  },
  {
   "cell_type": "code",
   "execution_count": 2,
   "id": "85741134",
   "metadata": {},
   "outputs": [
    {
     "name": "stdout",
     "output_type": "stream",
     "text": [
      "Training dataset shape: (60000, 784)\n",
      "Testing dataset shape: (10000, 784)\n"
     ]
    }
   ],
   "source": [
    "# Load the MNIST dataset from TensorFlow/Keras\n",
    "(X_train, y_train), (X_test, y_test) = tf.keras.datasets.mnist.load_data()\n",
    "\n",
    "\n",
    "# Reshape the data to a 2D array for PCA\n",
    "X_train = X_train.reshape(X_train.shape[0], -1)\n",
    "X_test = X_test.reshape(X_test.shape[0], -1)\n",
    "\n",
    "# Display the shape of the dataset\n",
    "print(\"Training dataset shape:\", X_train.shape)\n",
    "print(\"Testing dataset shape:\", X_test.shape)\n"
   ]
  },
  {
   "cell_type": "markdown",
   "id": "568b89cb",
   "metadata": {},
   "source": [
    "### Step 2: Standardize the Data\n",
    "PCA is sensitive to the scale of the data, so it's essential to standardize the data before applying PCA."
   ]
  },
  {
   "cell_type": "code",
   "execution_count": 3,
   "id": "65c21cc4",
   "metadata": {},
   "outputs": [],
   "source": [
    "from sklearn.preprocessing import StandardScaler\n",
    "\n",
    "# Standardize the data\n",
    "scaler = StandardScaler()\n",
    "X_train_std = scaler.fit_transform(X_train)\n",
    "X_test_std = scaler.transform(X_test)\n"
   ]
  },
  {
   "cell_type": "markdown",
   "id": "12dfa558",
   "metadata": {},
   "source": [
    "### Step 3: Perform PCA\n",
    "\n",
    "Now, let's perform PCA on the standardized data. You can choose the number of components based on how much variance you want to retain.\n"
   ]
  },
  {
   "cell_type": "code",
   "execution_count": 11,
   "id": "43a7fad2",
   "metadata": {},
   "outputs": [
    {
     "name": "stdout",
     "output_type": "stream",
     "text": [
      "Dimensions after PCA:  320\n",
      "Original Dimensions:  784\n",
      "Explained variance ratio with 320 components: 0.95\n"
     ]
    }
   ],
   "source": [
    "# Create a PCA instance with the desired number of components\n",
    "n_components = 320  # You can adjust this number\n",
    "pca = PCA(n_components=n_components)\n",
    "\n",
    "# Fit PCA to the standardized training data\n",
    "X_train_pca = pca.fit_transform(X_train_std)\n",
    "\n",
    "# Transform the testing data using the same PCA\n",
    "X_test_pca = pca.transform(X_test_std)\n",
    "\n",
    "# Display shape after pca\n",
    "print(\"Dimensions after PCA: \", X_train_pca.shape[1])\n",
    "\n",
    "# Display shape after pca\n",
    "print(\"Original Dimensions: \", X_train.shape[1])\n",
    "\n",
    "# Display the explained variance ratio\n",
    "explained_variance_ratio = pca.explained_variance_ratio_.sum()\n",
    "print(f\"Explained variance ratio with {n_components} components: {explained_variance_ratio:.2f}\")\n"
   ]
  },
  {
   "cell_type": "markdown",
   "id": "151b7848",
   "metadata": {},
   "source": [
    "### Step 4: Visualize the Effect of PCA\n",
    "\n",
    "To visualize the effect of PCA, you can plot some of the original images and their reconstructed versions using the PCA components."
   ]
  },
  {
   "cell_type": "code",
   "execution_count": 12,
   "id": "9aa97ab2",
   "metadata": {},
   "outputs": [
    {
     "data": {
      "image/png": "[encoded data removed]",
      "text/plain": [
       "<Figure size 800x400 with 10 Axes>"
      ]
     },
     "metadata": {},
     "output_type": "display_data"
    }
   ],
   "source": [
    "# Function to plot the original and reconstructed images\n",
    "def plot_images(original, reconstructed):\n",
    "    plt.figure(figsize=(8, 4))\n",
    "    for i in range(5):\n",
    "        plt.subplot(2, 5, i + 1)\n",
    "        plt.imshow(original[i].reshape(28, 28), cmap='gray')\n",
    "        plt.title(\"Original\")\n",
    "        plt.axis('off')\n",
    "        plt.subplot(2, 5, i + 6)\n",
    "        plt.imshow(reconstructed[i].reshape(28, 28), cmap='gray')\n",
    "        plt.title(\"Reconstructed\")\n",
    "        plt.axis('off')\n",
    "    plt.tight_layout()\n",
    "    plt.show()\n",
    "\n",
    "# Inverse transform PCA to get the reconstructed data\n",
    "X_train_reconstructed = pca.inverse_transform(X_train_pca)\n",
    "\n",
    "# Plot some original and reconstructed images\n",
    "plot_images(X_train_std, X_train_reconstructed)\n"
   ]
  },
  {
   "cell_type": "markdown",
   "id": "7d5a2125",
   "metadata": {},
   "source": [
    "In this code, we define a function `plot_images` to visualize the original and reconstructed images. We then use PCA to reduce the dimensionality of the data and inverse transform it to get the reconstructed images.\n",
    "\n",
    "### Conclusion\n",
    "\n",
    "You've now performed PCA on the MNIST dataset, reducing its dimensionality while preserving its essential information. PCA can be a useful technique for dimensionality reduction and visualization of high-dimensional data. You can experiment with the number of components to see how it affects the reconstructed images and the explained variance ratio."
   ]
  }
 ],
 "metadata": {
  "kernelspec": {
   "display_name": "Python 3 (ipykernel)",
   "language": "python",
   "name": "python3"
  },
  "language_info": {
   "codemirror_mode": {
    "name": "ipython",
    "version": 3
   },
   "file_extension": ".py",
   "mimetype": "text/x-python",
   "name": "python",
   "nbconvert_exporter": "python",
   "pygments_lexer": "ipython3",
   "version": "3.10.9"
  }
 },
 "nbformat": 4,
 "nbformat_minor": 5
}
