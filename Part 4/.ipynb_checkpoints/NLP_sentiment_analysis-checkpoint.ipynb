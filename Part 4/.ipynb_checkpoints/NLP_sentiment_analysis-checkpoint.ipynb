{
 "cells": [
  {
   "cell_type": "markdown",
   "id": "bf2e94e4",
   "metadata": {},
   "source": [
    "# Tutorial on Natural Language Processing (NLP) with IMDb Movie Reviews\n",
    "\n",
    "## Table of Contents\n",
    "1. Introduction to NLP and IMDb Dataset\n",
    "2. Data Preprocessing\n",
    "3. Exploratory Data Analysis (EDA)\n",
    "4. Text Tokenization and Preprocessing\n",
    "5. Feature Extraction using TF-IDF\n",
    "6. Sentiment Analysis with Machine Learning\n",
    "7. Evaluating Model Performance\n",
    "8. Conclusion and Further Steps\n",
    "\n",
    "---\n",
    "\n",
    "## 1. Introduction to NLP and IMDb Dataset\n",
    "\n",
    "### 1.1. What is NLP?\n",
    "Natural Language Processing (NLP) is a field of artificial intelligence that focuses on the interaction between computers and human language. It involves tasks such as text understanding, translation, sentiment analysis, and more.\n",
    "\n",
    "### 1.2. IMDb Dataset\n",
    "The IMDb dataset is a popular dataset for sentiment analysis. It contains movie reviews labeled with their sentiment (positive or negative).\n",
    "\n",
    "## 2. Data Preprocessing\n",
    "\n",
    "### 2.1. Download and Load the Data\n",
    "Download the IMDb dataset from [this link](https://ai.stanford.edu/~amaas/data/sentiment/), and extract it to a suitable location.\n",
    "\n",
    "### 2.2. Load and Organize Data in Python\n"
   ]
  },
  {
   "cell_type": "code",
   "execution_count": 23,
   "id": "6fa2434e",
   "metadata": {},
   "outputs": [],
   "source": [
    "import os\n",
    "import tarfile\n",
    "\n",
    "# Define the file path\n",
    "#file_path = 'aclImdb_v1.tar.gz'\n",
    "\n",
    "# Extract the tar.gz file\n",
    "#with tarfile.open(file_path, 'r:gz') as tar:\n",
    "#    tar.extractall()\n",
    "\n",
    "def load_data(folder):\n",
    "    texts = []\n",
    "    labels = []\n",
    "    for label in ['pos', 'neg']:\n",
    "        label_folder = os.path.join(folder, label)\n",
    "        for filename in os.listdir(label_folder):\n",
    "            with open(os.path.join(label_folder, filename), 'r', encoding='utf-8') as file:\n",
    "                texts.append(file.read())\n",
    "                labels.append(1 if label == 'pos' else 0)\n",
    "    return texts, labels\n",
    "\n",
    "train_texts, train_labels = load_data('aclImdb/train')\n",
    "test_texts, test_labels = load_data('aclImdb/test')"
   ]
  },
  {
   "cell_type": "markdown",
   "id": "627a024b",
   "metadata": {},
   "source": [
    "\n",
    "## 3. Exploratory Data Analysis (EDA)\n",
    "\n",
    "### 3.1. Understand the Data\n",
    "Explore some basic statistics about the dataset, such as the number of samples, class distribution, and review lengths.\n"
   ]
  },
  {
   "cell_type": "code",
   "execution_count": 24,
   "id": "3bcbc527",
   "metadata": {},
   "outputs": [
    {
     "name": "stdout",
     "output_type": "stream",
     "text": [
      "Total Training Samples: 25000\n",
      "Total Testing Samples: 25000\n",
      "Class Distribution in Training Data: 12500 positive, 12500 negative\n",
      "Average Review Length: 233.79 words\n"
     ]
    }
   ],
   "source": [
    "# Basic statistics\n",
    "print(f'Total Training Samples: {len(train_texts)}')\n",
    "print(f'Total Testing Samples: {len(test_texts)}')\n",
    "print(f'Class Distribution in Training Data: {train_labels.count(1)} positive, {train_labels.count(0)} negative')\n",
    "\n",
    "# Average review length\n",
    "avg_len = sum(len(text.split()) for text in train_texts) / len(train_texts)\n",
    "print(f'Average Review Length: {avg_len:.2f} words')\n"
   ]
  },
  {
   "cell_type": "markdown",
   "id": "3d3cbf4d",
   "metadata": {},
   "source": [
    "## 4. Text Tokenization and Preprocessing\n",
    "\n",
    "### 4.1. Tokenization\n"
   ]
  },
  {
   "cell_type": "code",
   "execution_count": 25,
   "id": "eeca0926",
   "metadata": {},
   "outputs": [
    {
     "name": "stderr",
     "output_type": "stream",
     "text": [
      "[nltk_data] Downloading package punkt to\n",
      "[nltk_data]     C:\\Users\\drwaq\\AppData\\Roaming\\nltk_data...\n",
      "[nltk_data]   Package punkt is already up-to-date!\n",
      "[nltk_data] Downloading package stopwords to\n",
      "[nltk_data]     C:\\Users\\drwaq\\AppData\\Roaming\\nltk_data...\n",
      "[nltk_data]   Package stopwords is already up-to-date!\n",
      "[nltk_data] Downloading package wordnet to\n",
      "[nltk_data]     C:\\Users\\drwaq\\AppData\\Roaming\\nltk_data...\n",
      "[nltk_data]   Package wordnet is already up-to-date!\n",
      "[nltk_data] Downloading package omw-1.4 to\n",
      "[nltk_data]     C:\\Users\\drwaq\\AppData\\Roaming\\nltk_data...\n",
      "[nltk_data]   Package omw-1.4 is already up-to-date!\n"
     ]
    }
   ],
   "source": [
    "import nltk\n",
    "#This command downloads the Punkt tokenizer models. \n",
    "#The Punkt tokenizer is a data-driven sentence tokenizer that can split text into sentences. \n",
    "#It's useful for tasks like sentence tokenization.\n",
    "nltk.download('punkt') \n",
    "nltk.download('stopwords') #list of common stop words (the, it, is, ...)\n",
    "nltk.download('wordnet') # download wordnet data for english language. It contains nouns, pronouns, verbs, etc\n",
    "nltk.download('omw-1.4') # multi-lexical database of wordnet for multiple languages\n",
    "# Tokenize\n",
    "#Tokenization involves splitting text into individual words or tokens. It's a crucial step for any NLP task.\n",
    "def tokenize_text(text): \n",
    "    return nltk.word_tokenize(text)\n",
    "\n",
    "train_tokens = [tokenize_text(text) for text in train_texts]\n",
    "test_tokens = [tokenize_text(text) for text in test_texts]\n"
   ]
  },
  {
   "cell_type": "code",
   "execution_count": 18,
   "id": "6f31baa4",
   "metadata": {},
   "outputs": [
    {
     "name": "stdout",
     "output_type": "stream",
     "text": [
      "Training Data:\n",
      "\n",
      "\n",
      "\n",
      "Example 1:\n",
      "Original Text: Bromwell High is a cartoon comedy. It ran at the same time as some other programs about school life, such as \"Teachers\". My 35 years in the teaching profession lead me to believe that Bromwell High's satire is much closer to reality than is \"Teachers\". The scramble to survive financially, the insightful students who can see right through their pathetic teachers' pomp, the pettiness of the whole situation, all remind me of the schools I knew and their students. When I saw the episode in which a student repeatedly tried to burn down the school, I immediately recalled ......... at .......... High. A classic line: INSPECTOR: I'm here to sack one of your teachers. STUDENT: Welcome to Bromwell High. I expect that many adults of my age think that Bromwell High is far fetched. What a pity that it isn't!\n",
      "\n",
      "Tokens: ['bromwell', 'high', 'cartoon', 'comedy', '.', 'ran', 'time', 'program', 'school', 'life', ',', '``', 'teacher', \"''\", '.', '35', 'year', 'teaching', 'profession', 'lead', 'believe', 'bromwell', 'high', \"'s\", 'satire', 'much', 'closer', 'reality', '``', 'teacher', \"''\", '.', 'scramble', 'survive', 'financially', ',', 'insightful', 'student', 'see', 'right', 'pathetic', 'teacher', \"'\", 'pomp', ',', 'pettiness', 'whole', 'situation', ',', 'remind', 'school', 'knew', 'student', '.', 'saw', 'episode', 'student', 'repeatedly', 'tried', 'burn', 'school', ',', 'immediately', 'recalled', '.........', '..........', 'high', '.', 'classic', 'line', ':', 'inspector', ':', \"'m\", 'sack', 'one', 'teacher', '.', 'student', ':', 'welcome', 'bromwell', 'high', '.', 'expect', 'many', 'adult', 'age', 'think', 'bromwell', 'high', 'far', 'fetched', '.', 'pity', \"n't\", '!']\n",
      "Label: Positive\n",
      "\n",
      "\n",
      "\n",
      "\n",
      "Example 2:\n",
      "Original Text: Homelessness (or Houselessness as George Carlin stated) has been an issue for years but never a plan to help those on the street that were once considered human who did everything from going to school, work, or vote for the matter. Most people think of the homeless as just a lost cause while worrying about things such as racism, the war on Iraq, pressuring kids to succeed, technology, the elections, inflation, or worrying if they'll be next to end up on the streets.<br /><br />But what if you were given a bet to live on the streets for a month without the luxuries you once had from a home, the entertainment sets, a bathroom, pictures on the wall, a computer, and everything you once treasure to see what it's like to be homeless? That is Goddard Bolt's lesson.<br /><br />Mel Brooks (who directs) who stars as Bolt plays a rich man who has everything in the world until deciding to make a bet with a sissy rival (Jeffery Tambor) to see if he can live in the streets for thirty days without the luxuries; if Bolt succeeds, he can do what he wants with a future project of making more buildings. The bet's on where Bolt is thrown on the street with a bracelet on his leg to monitor his every move where he can't step off the sidewalk. He's given the nickname Pepto by a vagrant after it's written on his forehead where Bolt meets other characters including a woman by the name of Molly (Lesley Ann Warren) an ex-dancer who got divorce before losing her home, and her pals Sailor (Howard Morris) and Fumes (Teddy Wilson) who are already used to the streets. They're survivors. Bolt isn't. He's not used to reaching mutual agreements like he once did when being rich where it's fight or flight, kill or be killed.<br /><br />While the love connection between Molly and Bolt wasn't necessary to plot, I found \"Life Stinks\" to be one of Mel Brooks' observant films where prior to being a comedy, it shows a tender side compared to his slapstick work such as Blazing Saddles, Young Frankenstein, or Spaceballs for the matter, to show what it's like having something valuable before losing it the next day or on the other hand making a stupid bet like all rich people do when they don't know what to do with their money. Maybe they should give it to the homeless instead of using it like Monopoly money.<br /><br />Or maybe this film will inspire you to help others.\n",
      "\n",
      "Tokens: ['homelessness', '(', 'houselessness', 'george', 'carlin', 'stated', ')', 'issue', 'year', 'never', 'plan', 'help', 'street', 'considered', 'human', 'everything', 'going', 'school', ',', 'work', ',', 'vote', 'matter', '.', 'people', 'think', 'homeless', 'lost', 'cause', 'worrying', 'thing', 'racism', ',', 'war', 'iraq', ',', 'pressuring', 'kid', 'succeed', ',', 'technology', ',', 'election', ',', 'inflation', ',', 'worrying', \"'ll\", 'next', 'end', 'streets.', '<', 'br', '/', '>', '<', 'br', '/', '>', 'given', 'bet', 'live', 'street', 'month', 'without', 'luxury', 'home', ',', 'entertainment', 'set', ',', 'bathroom', ',', 'picture', 'wall', ',', 'computer', ',', 'everything', 'treasure', 'see', \"'s\", 'like', 'homeless', '?', 'goddard', 'bolt', \"'s\", 'lesson.', '<', 'br', '/', '>', '<', 'br', '/', '>', 'mel', 'brook', '(', 'directs', ')', 'star', 'bolt', 'play', 'rich', 'man', 'everything', 'world', 'deciding', 'make', 'bet', 'sissy', 'rival', '(', 'jeffery', 'tambor', ')', 'see', 'live', 'street', 'thirty', 'day', 'without', 'luxury', ';', 'bolt', 'succeeds', ',', 'want', 'future', 'project', 'making', 'building', '.', 'bet', \"'s\", 'bolt', 'thrown', 'street', 'bracelet', 'leg', 'monitor', 'every', 'move', 'ca', \"n't\", 'step', 'sidewalk', '.', \"'s\", 'given', 'nickname', 'pepto', 'vagrant', \"'s\", 'written', 'forehead', 'bolt', 'meet', 'character', 'including', 'woman', 'name', 'molly', '(', 'lesley', 'ann', 'warren', ')', 'ex-dancer', 'got', 'divorce', 'losing', 'home', ',', 'pal', 'sailor', '(', 'howard', 'morris', ')', 'fume', '(', 'teddy', 'wilson', ')', 'already', 'used', 'street', '.', \"'re\", 'survivor', '.', 'bolt', \"n't\", '.', \"'s\", 'used', 'reaching', 'mutual', 'agreement', 'like', 'rich', \"'s\", 'fight', 'flight', ',', 'kill', 'killed.', '<', 'br', '/', '>', '<', 'br', '/', '>', 'love', 'connection', 'molly', 'bolt', \"n't\", 'necessary', 'plot', ',', 'found', '``', 'life', 'stink', \"''\", 'one', 'mel', 'brook', \"'\", 'observant', 'film', 'prior', 'comedy', ',', 'show', 'tender', 'side', 'compared', 'slapstick', 'work', 'blazing', 'saddle', ',', 'young', 'frankenstein', ',', 'spaceballs', 'matter', ',', 'show', \"'s\", 'like', 'something', 'valuable', 'losing', 'next', 'day', 'hand', 'making', 'stupid', 'bet', 'like', 'rich', 'people', \"n't\", 'know', 'money', '.', 'maybe', 'give', 'homeless', 'instead', 'using', 'like', 'monopoly', 'money.', '<', 'br', '/', '>', '<', 'br', '/', '>', 'maybe', 'film', 'inspire', 'help', 'others', '.']\n",
      "Label: Positive\n",
      "\n",
      "\n",
      "\n",
      "\n",
      "Example 3:\n",
      "Original Text: Brilliant over-acting by Lesley Ann Warren. Best dramatic hobo lady I have ever seen, and love scenes in clothes warehouse are second to none. The corn on face is a classic, as good as anything in Blazing Saddles. The take on lawyers is also superb. After being accused of being a turncoat, selling out his boss, and being dishonest the lawyer of Pepto Bolt shrugs indifferently \"I'm a lawyer\" he says. Three funny words. Jeffrey Tambor, a favorite from the later Larry Sanders show, is fantastic here too as a mad millionaire who wants to crush the ghetto. His character is more malevolent than usual. The hospital scene, and the scene where the homeless invade a demolition site, are all-time classics. Look for the legs scene and the two big diggers fighting (one bleeds). This movie gets better each time I see it (which is quite often).\n",
      "\n",
      "Tokens: ['brilliant', 'over-acting', 'lesley', 'ann', 'warren', '.', 'best', 'dramatic', 'hobo', 'lady', 'ever', 'seen', ',', 'love', 'scene', 'clothes', 'warehouse', 'second', 'none', '.', 'corn', 'face', 'classic', ',', 'good', 'anything', 'blazing', 'saddle', '.', 'take', 'lawyer', 'also', 'superb', '.', 'accused', 'turncoat', ',', 'selling', 'bos', ',', 'dishonest', 'lawyer', 'pepto', 'bolt', 'shrug', 'indifferently', '``', \"'m\", 'lawyer', \"''\", 'say', '.', 'three', 'funny', 'word', '.', 'jeffrey', 'tambor', ',', 'favorite', 'later', 'larry', 'sander', 'show', ',', 'fantastic', 'mad', 'millionaire', 'want', 'crush', 'ghetto', '.', 'character', 'malevolent', 'usual', '.', 'hospital', 'scene', ',', 'scene', 'homeless', 'invade', 'demolition', 'site', ',', 'all-time', 'classic', '.', 'look', 'leg', 'scene', 'two', 'big', 'digger', 'fighting', '(', 'one', 'bleeds', ')', '.', 'movie', 'get', 'better', 'time', 'see', '(', 'quite', 'often', ')', '.']\n",
      "Label: Positive\n",
      "\n",
      "\n",
      "\n",
      "\n",
      "\n",
      "Testing Data:\n",
      "Example 1:\n",
      "Original Text: I went and saw this movie last night after being coaxed to by a few friends of mine. I'll admit that I was reluctant to see it because from what I knew of Ashton Kutcher he was only able to do comedy. I was wrong. Kutcher played the character of Jake Fischer very well, and Kevin Costner played Ben Randall with such professionalism. The sign of a good movie is that it can toy with our emotions. This one did exactly that. The entire theater (which was sold out) was overcome by laughter during the first half of the movie, and were moved to tears during the second half. While exiting the theater I not only saw many women in tears, but many full grown men as well, trying desperately not to let anyone see them crying. This movie was great, and I suggest that you go see it before you judge.\n",
      "Tokens: ['went', 'saw', 'movie', 'last', 'night', 'coaxed', 'friend', 'mine', '.', \"'ll\", 'admit', 'reluctant', 'see', 'knew', 'ashton', 'kutcher', 'able', 'comedy', '.', 'wrong', '.', 'kutcher', 'played', 'character', 'jake', 'fischer', 'well', ',', 'kevin', 'costner', 'played', 'ben', 'randall', 'professionalism', '.', 'sign', 'good', 'movie', 'toy', 'emotion', '.', 'one', 'exactly', '.', 'entire', 'theater', '(', 'sold', ')', 'overcome', 'laughter', 'first', 'half', 'movie', ',', 'moved', 'tear', 'second', 'half', '.', 'exiting', 'theater', 'saw', 'many', 'woman', 'tear', ',', 'many', 'full', 'grown', 'men', 'well', ',', 'trying', 'desperately', 'let', 'anyone', 'see', 'cry', '.', 'movie', 'great', ',', 'suggest', 'go', 'see', 'judge', '.']\n",
      "Label: Positive\n",
      "\n",
      "Example 2:\n",
      "Original Text: Actor turned director Bill Paxton follows up his promising debut, the Gothic-horror \"Frailty\", with this family friendly sports drama about the 1913 U.S. Open where a young American caddy rises from his humble background to play against his Bristish idol in what was dubbed as \"The Greatest Game Ever Played.\" I'm no fan of golf, and these scrappy underdog sports flicks are a dime a dozen (most recently done to grand effect with \"Miracle\" and \"Cinderella Man\"), but some how this film was enthralling all the same.<br /><br />The film starts with some creative opening credits (imagine a Disneyfied version of the animated opening credits of HBO's \"Carnivale\" and \"Rome\"), but lumbers along slowly for its first by-the-numbers hour. Once the action moves to the U.S. Open things pick up very well. Paxton does a nice job and shows a knack for effective directorial flourishes (I loved the rain-soaked montage of the action on day two of the open) that propel the plot further or add some unexpected psychological depth to the proceedings. There's some compelling character development when the British Harry Vardon is haunted by images of the aristocrats in black suits and top hats who destroyed his family cottage as a child to make way for a golf course. He also does a good job of visually depicting what goes on in the players' heads under pressure. Golf, a painfully boring sport, is brought vividly alive here. Credit should also be given the set designers and costume department for creating an engaging period-piece atmosphere of London and Boston at the beginning of the twentieth century.<br /><br />You know how this is going to end not only because it's based on a true story but also because films in this genre follow the same template over and over, but Paxton puts on a better than average show and perhaps indicates more talent behind the camera than he ever had in front of it. Despite the formulaic nature, this is a nice and easy film to root for that deserves to find an audience.\n",
      "Tokens: ['actor', 'turned', 'director', 'bill', 'paxton', 'follows', 'promising', 'debut', ',', 'gothic-horror', '``', 'frailty', \"''\", ',', 'family', 'friendly', 'sport', 'drama', '1913', 'u.s.', 'open', 'young', 'american', 'caddy', 'rise', 'humble', 'background', 'play', 'bristish', 'idol', 'dubbed', '``', 'greatest', 'game', 'ever', 'played', '.', \"''\", \"'m\", 'fan', 'golf', ',', 'scrappy', 'underdog', 'sport', 'flick', 'dime', 'dozen', '(', 'recently', 'done', 'grand', 'effect', '``', 'miracle', \"''\", '``', 'cinderella', 'man', \"''\", ')', ',', 'film', 'enthralling', 'same.', '<', 'br', '/', '>', '<', 'br', '/', '>', 'film', 'start', 'creative', 'opening', 'credit', '(', 'imagine', 'disneyfied', 'version', 'animated', 'opening', 'credit', 'hbo', \"'s\", '``', 'carnivale', \"''\", '``', 'rome', \"''\", ')', ',', 'lumber', 'along', 'slowly', 'first', 'by-the-numbers', 'hour', '.', 'action', 'move', 'u.s.', 'open', 'thing', 'pick', 'well', '.', 'paxton', 'nice', 'job', 'show', 'knack', 'effective', 'directorial', 'flourish', '(', 'loved', 'rain-soaked', 'montage', 'action', 'day', 'two', 'open', ')', 'propel', 'plot', 'add', 'unexpected', 'psychological', 'depth', 'proceeding', '.', \"'s\", 'compelling', 'character', 'development', 'british', 'harry', 'vardon', 'haunted', 'image', 'aristocrat', 'black', 'suit', 'top', 'hat', 'destroyed', 'family', 'cottage', 'child', 'make', 'way', 'golf', 'course', '.', 'also', 'good', 'job', 'visually', 'depicting', 'go', 'player', \"'\", 'head', 'pressure', '.', 'golf', ',', 'painfully', 'boring', 'sport', ',', 'brought', 'vividly', 'alive', '.', 'credit', 'also', 'given', 'set', 'designer', 'costume', 'department', 'creating', 'engaging', 'period-piece', 'atmosphere', 'london', 'boston', 'beginning', 'twentieth', 'century.', '<', 'br', '/', '>', '<', 'br', '/', '>', 'know', 'going', 'end', \"'s\", 'based', 'true', 'story', 'also', 'film', 'genre', 'follow', 'template', ',', 'paxton', 'put', 'better', 'average', 'show', 'perhaps', 'indicates', 'talent', 'behind', 'camera', 'ever', 'front', '.', 'despite', 'formulaic', 'nature', ',', 'nice', 'easy', 'film', 'root', 'deserves', 'find', 'audience', '.']\n",
      "Label: Positive\n",
      "\n",
      "Example 3:\n",
      "Original Text: As a recreational golfer with some knowledge of the sport's history, I was pleased with Disney's sensitivity to the issues of class in golf in the early twentieth century. The movie depicted well the psychological battles that Harry Vardon fought within himself, from his childhood trauma of being evicted to his own inability to break that glass ceiling that prevents him from being accepted as an equal in English golf society. Likewise, the young Ouimet goes through his own class struggles, being a mere caddie in the eyes of the upper crust Americans who scoff at his attempts to rise above his standing. <br /><br />What I loved best, however, is how this theme of class is manifested in the characters of Ouimet's parents. His father is a working-class drone who sees the value of hard work but is intimidated by the upper class; his mother, however, recognizes her son's talent and desire and encourages him to pursue his dream of competing against those who think he is inferior.<br /><br />Finally, the golf scenes are well photographed. Although the course used in the movie was not the actual site of the historical tournament, the little liberties taken by Disney do not detract from the beauty of the film. There's one little Disney moment at the pool table; otherwise, the viewer does not really think Disney. The ending, as in \"Miracle,\" is not some Disney creation, but one that only human history could have written.\n",
      "Tokens: ['recreational', 'golfer', 'knowledge', 'sport', \"'s\", 'history', ',', 'pleased', 'disney', \"'s\", 'sensitivity', 'issue', 'class', 'golf', 'early', 'twentieth', 'century', '.', 'movie', 'depicted', 'well', 'psychological', 'battle', 'harry', 'vardon', 'fought', 'within', ',', 'childhood', 'trauma', 'evicted', 'inability', 'break', 'glass', 'ceiling', 'prevents', 'accepted', 'equal', 'english', 'golf', 'society', '.', 'likewise', ',', 'young', 'ouimet', 'go', 'class', 'struggle', ',', 'mere', 'caddie', 'eye', 'upper', 'crust', 'american', 'scoff', 'attempt', 'rise', 'standing', '.', '<', 'br', '/', '>', '<', 'br', '/', '>', 'loved', 'best', ',', 'however', ',', 'theme', 'class', 'manifested', 'character', 'ouimet', \"'s\", 'parent', '.', 'father', 'working-class', 'drone', 'see', 'value', 'hard', 'work', 'intimidated', 'upper', 'class', ';', 'mother', ',', 'however', ',', 'recognizes', 'son', \"'s\", 'talent', 'desire', 'encourages', 'pursue', 'dream', 'competing', 'think', 'inferior.', '<', 'br', '/', '>', '<', 'br', '/', '>', 'finally', ',', 'golf', 'scene', 'well', 'photographed', '.', 'although', 'course', 'used', 'movie', 'actual', 'site', 'historical', 'tournament', ',', 'little', 'liberty', 'taken', 'disney', 'detract', 'beauty', 'film', '.', \"'s\", 'one', 'little', 'disney', 'moment', 'pool', 'table', ';', 'otherwise', ',', 'viewer', 'really', 'think', 'disney', '.', 'ending', ',', '``', 'miracle', ',', \"''\", 'disney', 'creation', ',', 'one', 'human', 'history', 'could', 'written', '.']\n",
      "Label: Positive\n",
      "\n"
     ]
    }
   ],
   "source": [
    "# Print examples\n",
    "print(\"Training Data:\")\n",
    "for i in range(3):  # Print first 3 examples for brevity\n",
    "    print(\"\\n\\n\")\n",
    "    print(f\"Example {i+1}:\")\n",
    "    print(f\"Original Text: {train_texts[i]}\")\n",
    "    print(\"\")\n",
    "    print(f\"Tokens: {train_tokens[i]}\")\n",
    "    print(f\"Label: {'Positive' if train_labels[i] == 1 else 'Negative'}\")\n",
    "    print()\n",
    "print(\"\\n\\n\")\n",
    "print(\"\\nTesting Data:\")\n",
    "for i in range(3):  # Print first 3 examples for brevity\n",
    "    print(f\"Example {i+1}:\")\n",
    "    print(f\"Original Text: {test_texts[i]}\")\n",
    "    print(f\"Tokens: {test_tokens[i]}\")\n",
    "    print(f\"Label: {'Positive' if test_labels[i] == 1 else 'Negative'}\")\n",
    "    print()"
   ]
  },
  {
   "cell_type": "markdown",
   "id": "ad1910bf",
   "metadata": {},
   "source": [
    "### 4.2. Stopword Removal and Lowercasing"
   ]
  },
  {
   "cell_type": "code",
   "execution_count": 5,
   "id": "2024b3e3",
   "metadata": {},
   "outputs": [],
   "source": [
    "from nltk.corpus import stopwords\n",
    "\n",
    "stop_words = set(stopwords.words('english'))\n",
    "\n",
    "def remove_stopwords(tokens):\n",
    "    return [word.lower() for word in tokens if word.lower() not in stop_words]\n",
    "\n",
    "train_tokens = [remove_stopwords(tokens) for tokens in train_tokens]\n",
    "test_tokens = [remove_stopwords(tokens) for tokens in test_tokens]\n"
   ]
  },
  {
   "cell_type": "markdown",
   "id": "727ca50b",
   "metadata": {},
   "source": [
    "### 4.3. Lemmatization"
   ]
  },
  {
   "cell_type": "code",
   "execution_count": 6,
   "id": "34ae0a04",
   "metadata": {},
   "outputs": [],
   "source": [
    "from nltk.stem import WordNetLemmatizer\n",
    "\n",
    "lemmatizer = WordNetLemmatizer() # reduce words to their base forms: running to run etc.\n",
    "\n",
    "def lemmatize_tokens(tokens):\n",
    "    return [lemmatizer.lemmatize(word) for word in tokens]\n",
    "\n",
    "train_tokens = [lemmatize_tokens(tokens) for tokens in train_tokens]\n",
    "test_tokens = [lemmatize_tokens(tokens) for tokens in test_tokens]"
   ]
  },
  {
   "cell_type": "markdown",
   "id": "ecf603aa",
   "metadata": {},
   "source": [
    "## 5. Feature Extraction using TF-IDF\n",
    "Term Frequency-Inverse Document Frequency (TF-IDF) is a widely used technique in Natural Language Processing and Information Retrieval. It's used for feature extraction from text data.)"
   ]
  },
  {
   "cell_type": "code",
   "execution_count": 7,
   "id": "b3f74c2b",
   "metadata": {},
   "outputs": [],
   "source": [
    "from sklearn.feature_extraction.text import TfidfVectorizer\n",
    "\n",
    "# Convert tokens back to text\n",
    "train_texts_processed = [' '.join(tokens) for tokens in train_tokens]\n",
    "test_texts_processed = [' '.join(tokens) for tokens in test_tokens]\n",
    "\n",
    "# TF-IDF Vectorization\n",
    "tfidf_vectorizer = TfidfVectorizer(max_features=5000)  # Limit to top 5000 words\n",
    "X_train_tfidf = tfidf_vectorizer.fit_transform(train_texts_processed)\n",
    "X_test_tfidf = tfidf_vectorizer.transform(test_texts_processed)"
   ]
  },
  {
   "cell_type": "markdown",
   "id": "42211b4b",
   "metadata": {},
   "source": [
    "After applying TF-IDF vectorization with a limit of the top 5000 words, the resulting matrices `X_train_tfidf` and `X_test_tfidf` will have the following dimensions:\n",
    "\n",
    "- `X_train_tfidf`: Number of training samples (rows) x 5000 (columns).\n",
    "- `X_test_tfidf`: Number of testing samples (rows) x 5000 (columns)."
   ]
  },
  {
   "cell_type": "code",
   "execution_count": 22,
   "id": "c493d055",
   "metadata": {},
   "outputs": [
    {
     "name": "stdout",
     "output_type": "stream",
     "text": [
      "Shape of sample traing example:  (1, 5000)\n",
      "Shape of sample test example:  (1, 5000)\n",
      "Sample Training Examples (after TF-IDF Vectorization):\n",
      "Example 1:\n",
      "  (0, 3303)\t0.12238270866680835\n",
      "  (0, 1725)\t0.14019432415785263\n",
      "  (0, 1683)\t0.07042101291153548\n",
      "  (0, 4485)\t0.05313394306372517\n",
      "  (0, 164)\t0.0870757784905422\n",
      "  (0, 144)\t0.09731052979617903\n",
      "  (0, 2745)\t0.05572033107168979\n",
      "  (0, 1610)\t0.08912335762115293\n",
      "  (0, 4865)\t0.12325104067743044\n",
      "  (0, 3119)\t0.033337011023180436\n",
      "  (0, 2317)\t0.136792889875042\n",
      "  (0, 2623)\t0.06869456344933293\n",
      "  (0, 863)\t0.07871624066481035\n",
      "  (0, 2253)\t0.10842249829229288\n",
      "  (0, 646)\t0.12163928649059272\n",
      "  (0, 4613)\t0.09805848594913157\n",
      "  (0, 3667)\t0.13642597205737983\n",
      "  (0, 1540)\t0.08417772103913178\n",
      "  (0, 3848)\t0.06875666597265039\n",
      "  (0, 2496)\t0.0947106608742402\n",
      "  (0, 3652)\t0.13071075100684781\n",
      "  (0, 4055)\t0.09059849630381867\n",
      "  (0, 4888)\t0.06969418435639296\n",
      "  (0, 3227)\t0.10847189801409389\n",
      "  (0, 3737)\t0.0676432631125698\n",
      "  (0, 3898)\t0.04496955198743299\n",
      "  (0, 4283)\t0.4098833644015232\n",
      "  (0, 4367)\t0.12118739254389954\n",
      "  (0, 3579)\t0.09406912568267653\n",
      "  (0, 887)\t0.12608906827669186\n",
      "  (0, 2940)\t0.048516998142100316\n",
      "  (0, 3839)\t0.1231528063199312\n",
      "  (0, 471)\t0.07352488899858667\n",
      "  (0, 2560)\t0.07799887794294282\n",
      "  (0, 4425)\t0.14153627170655983\n",
      "  (0, 4982)\t0.05598024776605481\n",
      "  (0, 63)\t0.1408548122598293\n",
      "  (0, 4424)\t0.4636108982857635\n",
      "  (0, 2605)\t0.05464648573064648\n",
      "  (0, 3861)\t0.2556198918009928\n",
      "  (0, 3456)\t0.1207448166653571\n",
      "  (0, 4523)\t0.040705296734671825\n",
      "  (0, 3541)\t0.1224774733666483\n",
      "  (0, 924)\t0.070632068394218\n",
      "  (0, 725)\t0.10741053184180216\n",
      "  (0, 2129)\t0.38600387113655543\n",
      "\n",
      "Example 2:\n",
      "  (0, 3146)\t0.05088620191078747\n",
      "  (0, 4728)\t0.059912255032528464\n",
      "  (0, 2325)\t0.047203462578111234\n",
      "  (0, 1942)\t0.03712600356918501\n",
      "  (0, 2789)\t0.09356506457060508\n",
      "  (0, 2899)\t0.09365878308038589\n",
      "  (0, 2501)\t0.033735170371364684\n",
      "  (0, 4292)\t0.051820545166870284\n",
      "  (0, 2051)\t0.0494785122438364\n",
      "  (0, 4740)\t0.08738940873863998\n",
      "  (0, 4118)\t0.03721973790855813\n",
      "  (0, 1849)\t0.09063263170161269\n",
      "  (0, 4993)\t0.042581216227708024\n",
      "  (0, 4067)\t0.08023398148555867\n",
      "  (0, 943)\t0.06454928375630471\n",
      "  (0, 4011)\t0.05321131419197086\n",
      "  (0, 4448)\t0.08628618404445731\n",
      "  (0, 3999)\t0.07111519210314299\n",
      "  (0, 3434)\t0.07843585786629066\n",
      "  (0, 1744)\t0.040596357163703516\n",
      "  (0, 4241)\t0.0828148341974763\n",
      "  (0, 1836)\t0.04513239229430585\n",
      "  (0, 3327)\t0.03406069514647331\n",
      "  (0, 2990)\t0.07131656707100983\n",
      "  (0, 982)\t0.07206279312549993\n",
      "  :\t:\n",
      "  (0, 742)\t0.06197588396021159\n",
      "  (0, 2672)\t0.05198784195540868\n",
      "  (0, 2165)\t0.26173910750144563\n",
      "  (0, 3244)\t0.06307545106976918\n",
      "  (0, 2783)\t0.10609873128026179\n",
      "  (0, 4798)\t0.07324281098538764\n",
      "  (0, 4945)\t0.0729449729353447\n",
      "  (0, 1959)\t0.03960158451596302\n",
      "  (0, 1577)\t0.1392405463691891\n",
      "  (0, 2206)\t0.051125268052547884\n",
      "  (0, 990)\t0.066327014339588\n",
      "  (0, 4263)\t0.29769512280654914\n",
      "  (0, 2112)\t0.09465643833743112\n",
      "  (0, 3308)\t0.06358705143702927\n",
      "  (0, 3009)\t0.0344679956041348\n",
      "  (0, 2383)\t0.0630051180890146\n",
      "  (0, 4216)\t0.0829170048325698\n",
      "  (0, 1926)\t0.06094279230467016\n",
      "  (0, 4485)\t0.032753043131269394\n",
      "  (0, 3119)\t0.020549737078618402\n",
      "  (0, 3898)\t0.055440631389685205\n",
      "  (0, 4982)\t0.0345075739510192\n",
      "  (0, 2605)\t0.033685410886249365\n",
      "  (0, 3861)\t0.05252342074021712\n",
      "  (0, 924)\t0.04353930932232983\n",
      "\n",
      "\n",
      "Sample Testing Examples (after TF-IDF Vectorization):\n",
      "Example 1:\n",
      "  (0, 4974)\t0.10656577219594528\n",
      "  (0, 4932)\t0.0881132484421255\n",
      "  (0, 4869)\t0.11221967049007747\n",
      "  (0, 4866)\t0.12487339393515624\n",
      "  (0, 4629)\t0.09793960812391757\n",
      "  (0, 4573)\t0.16317730235702732\n",
      "  (0, 4471)\t0.24609134293640292\n",
      "  (0, 4427)\t0.29040920184169183\n",
      "  (0, 4323)\t0.14904170576183115\n",
      "  (0, 4107)\t0.17394003301795755\n",
      "  (0, 4015)\t0.14976174411580587\n",
      "  (0, 3898)\t0.1787537872856208\n",
      "  (0, 3890)\t0.10048694945107074\n",
      "  (0, 3848)\t0.18220497945184902\n",
      "  (0, 3317)\t0.19725819267493286\n",
      "  (0, 3160)\t0.1751010103726546\n",
      "  (0, 3119)\t0.0441714946655558\n",
      "  (0, 3024)\t0.10297067158385492\n",
      "  (0, 2932)\t0.16306479751635897\n",
      "  (0, 2930)\t0.15394394271204506\n",
      "  (0, 2862)\t0.15548682925932453\n",
      "  (0, 2816)\t0.1106000982489985\n",
      "  (0, 2745)\t0.14765872711172284\n",
      "  (0, 2642)\t0.095194471721428\n",
      "  (0, 2595)\t0.09653393139866408\n",
      "  (0, 2549)\t0.16178352701067164\n",
      "  (0, 2536)\t0.09368874572649764\n",
      "  (0, 2496)\t0.12549149798309203\n",
      "  (0, 2474)\t0.16153729174219855\n",
      "  (0, 2441)\t0.15775498689341438\n",
      "  (0, 2393)\t0.19111540288290224\n",
      "  (0, 2042)\t0.2087290366456413\n",
      "  (0, 2018)\t0.1609308722670197\n",
      "  (0, 1992)\t0.0674966331055189\n",
      "  (0, 1965)\t0.05544303103594625\n",
      "  (0, 1954)\t0.07039245539915193\n",
      "  (0, 1874)\t0.10708499334025842\n",
      "  (0, 1863)\t0.09416654889489999\n",
      "  (0, 1763)\t0.06708196406563896\n",
      "  (0, 1584)\t0.12235732113516389\n",
      "  (0, 1535)\t0.11267786215175427\n",
      "  (0, 1492)\t0.1310799360363907\n",
      "  (0, 1252)\t0.16971896868851036\n",
      "  (0, 1112)\t0.13617289071053765\n",
      "  (0, 924)\t0.09358739540635408\n",
      "  (0, 779)\t0.06004052301508945\n",
      "  (0, 480)\t0.14780498935877903\n",
      "  (0, 280)\t0.0958928640377143\n",
      "  (0, 139)\t0.1350400657969348\n",
      "  (0, 80)\t0.11615989048581454\n",
      "\n",
      "Example 2:\n",
      "  (0, 4993)\t0.049982470033005454\n",
      "  (0, 4866)\t0.03409602470106915\n",
      "  (0, 4848)\t0.036486000066736475\n",
      "  (0, 4789)\t0.08762272426481932\n",
      "  (0, 4756)\t0.05866660581161815\n",
      "  (0, 4676)\t0.08762272426481932\n",
      "  (0, 4646)\t0.0406082063493529\n",
      "  (0, 4635)\t0.06770377748555392\n",
      "  (0, 4624)\t0.05495330656422037\n",
      "  (0, 4555)\t0.057300276742652305\n",
      "  (0, 4484)\t0.0376233306092795\n",
      "  (0, 4470)\t0.060713367232394316\n",
      "  (0, 4403)\t0.06448679651513091\n",
      "  (0, 4328)\t0.08121849814182011\n",
      "  (0, 4254)\t0.03325491380615669\n",
      "  (0, 4212)\t0.0517014966878248\n",
      "  (0, 4181)\t0.26464145719844245\n",
      "  (0, 4083)\t0.08034738479848427\n",
      "  (0, 3999)\t0.08347607872867223\n",
      "  (0, 3944)\t0.049643603139465586\n",
      "  (0, 3781)\t0.09067498756686315\n",
      "  (0, 3742)\t0.08480187193291543\n",
      "  (0, 3595)\t0.07450039328027748\n",
      "  (0, 3533)\t0.09277126179648056\n",
      "  (0, 3507)\t0.051587112334187044\n",
      "  :\t:\n",
      "  (0, 756)\t0.07604165978114216\n",
      "  (0, 680)\t0.05870660785085071\n",
      "  (0, 664)\t0.09605833918812476\n",
      "  (0, 622)\t0.07117384023863181\n",
      "  (0, 612)\t0.07171963402495678\n",
      "  (0, 581)\t0.09525437774283174\n",
      "  (0, 563)\t0.05912268115571491\n",
      "  (0, 516)\t0.05908159440385249\n",
      "  (0, 503)\t0.07741526501786784\n",
      "  (0, 491)\t0.04173132480169539\n",
      "  (0, 466)\t0.06346087213064114\n",
      "  (0, 462)\t0.06118771479881805\n",
      "  (0, 428)\t0.06134119395047867\n",
      "  (0, 402)\t0.07195283334840116\n",
      "  (0, 384)\t0.0720707593754641\n",
      "  (0, 371)\t0.0537799002760815\n",
      "  (0, 354)\t0.07197634702911686\n",
      "  (0, 260)\t0.08067350246352205\n",
      "  (0, 237)\t0.05613756654220328\n",
      "  (0, 219)\t0.10964514722849633\n",
      "  (0, 215)\t0.05804979651898912\n",
      "  (0, 204)\t0.07918202959728018\n",
      "  (0, 130)\t0.0643854297384804\n",
      "  (0, 121)\t0.04049000634770466\n",
      "  (0, 118)\t0.10205499191126412\n",
      "\n"
     ]
    }
   ],
   "source": [
    "# Get a few sample examples\n",
    "sample_train_examples = X_train_tfidf[:2]  # Print the first 3 examples\n",
    "sample_test_examples = X_test_tfidf[:2]   # Print the first 3 examples\n",
    "print(\"Shape of sample traing example: \",sample_train_examples[0].shape)\n",
    "print(\"Shape of sample test example: \",sample_test_examples[0].shape)\n",
    "\n",
    "# Print sample examples\n",
    "print(\"Sample Training Examples (after TF-IDF Vectorization):\")\n",
    "for i, example in enumerate(sample_train_examples):\n",
    "    print(f\"Example {i+1}:\")\n",
    "    print(example)\n",
    "    print()\n",
    "\n",
    "print(\"\\nSample Testing Examples (after TF-IDF Vectorization):\")\n",
    "for i, example in enumerate(sample_test_examples):\n",
    "    print(f\"Example {i+1}:\")\n",
    "    print(example)\n",
    "    print()"
   ]
  },
  {
   "cell_type": "markdown",
   "id": "c6d57221",
   "metadata": {},
   "source": [
    "## 6. Sentiment Analysis with Machine Learning\n",
    "\n",
    "### 6.1. Train a Model (e.g., Logistic Regression)"
   ]
  },
  {
   "cell_type": "code",
   "execution_count": 26,
   "id": "60670abf",
   "metadata": {},
   "outputs": [
    {
     "data": {
      "text/html": [
       "<style>#sk-container-id-2 {color: black;background-color: white;}#sk-container-id-2 pre{padding: 0;}#sk-container-id-2 div.sk-toggleable {background-color: white;}#sk-container-id-2 label.sk-toggleable__label {cursor: pointer;display: block;width: 100%;margin-bottom: 0;padding: 0.3em;box-sizing: border-box;text-align: center;}#sk-container-id-2 label.sk-toggleable__label-arrow:before {content: \"▸\";float: left;margin-right: 0.25em;color: #696969;}#sk-container-id-2 label.sk-toggleable__label-arrow:hover:before {color: black;}#sk-container-id-2 div.sk-estimator:hover label.sk-toggleable__label-arrow:before {color: black;}#sk-container-id-2 div.sk-toggleable__content {max-height: 0;max-width: 0;overflow: hidden;text-align: left;background-color: #f0f8ff;}#sk-container-id-2 div.sk-toggleable__content pre {margin: 0.2em;color: black;border-radius: 0.25em;background-color: #f0f8ff;}#sk-container-id-2 input.sk-toggleable__control:checked~div.sk-toggleable__content {max-height: 200px;max-width: 100%;overflow: auto;}#sk-container-id-2 input.sk-toggleable__control:checked~label.sk-toggleable__label-arrow:before {content: \"▾\";}#sk-container-id-2 div.sk-estimator input.sk-toggleable__control:checked~label.sk-toggleable__label {background-color: #d4ebff;}#sk-container-id-2 div.sk-label input.sk-toggleable__control:checked~label.sk-toggleable__label {background-color: #d4ebff;}#sk-container-id-2 input.sk-hidden--visually {border: 0;clip: rect(1px 1px 1px 1px);clip: rect(1px, 1px, 1px, 1px);height: 1px;margin: -1px;overflow: hidden;padding: 0;position: absolute;width: 1px;}#sk-container-id-2 div.sk-estimator {font-family: monospace;background-color: #f0f8ff;border: 1px dotted black;border-radius: 0.25em;box-sizing: border-box;margin-bottom: 0.5em;}#sk-container-id-2 div.sk-estimator:hover {background-color: #d4ebff;}#sk-container-id-2 div.sk-parallel-item::after {content: \"\";width: 100%;border-bottom: 1px solid gray;flex-grow: 1;}#sk-container-id-2 div.sk-label:hover label.sk-toggleable__label {background-color: #d4ebff;}#sk-container-id-2 div.sk-serial::before {content: \"\";position: absolute;border-left: 1px solid gray;box-sizing: border-box;top: 0;bottom: 0;left: 50%;z-index: 0;}#sk-container-id-2 div.sk-serial {display: flex;flex-direction: column;align-items: center;background-color: white;padding-right: 0.2em;padding-left: 0.2em;position: relative;}#sk-container-id-2 div.sk-item {position: relative;z-index: 1;}#sk-container-id-2 div.sk-parallel {display: flex;align-items: stretch;justify-content: center;background-color: white;position: relative;}#sk-container-id-2 div.sk-item::before, #sk-container-id-2 div.sk-parallel-item::before {content: \"\";position: absolute;border-left: 1px solid gray;box-sizing: border-box;top: 0;bottom: 0;left: 50%;z-index: -1;}#sk-container-id-2 div.sk-parallel-item {display: flex;flex-direction: column;z-index: 1;position: relative;background-color: white;}#sk-container-id-2 div.sk-parallel-item:first-child::after {align-self: flex-end;width: 50%;}#sk-container-id-2 div.sk-parallel-item:last-child::after {align-self: flex-start;width: 50%;}#sk-container-id-2 div.sk-parallel-item:only-child::after {width: 0;}#sk-container-id-2 div.sk-dashed-wrapped {border: 1px dashed gray;margin: 0 0.4em 0.5em 0.4em;box-sizing: border-box;padding-bottom: 0.4em;background-color: white;}#sk-container-id-2 div.sk-label label {font-family: monospace;font-weight: bold;display: inline-block;line-height: 1.2em;}#sk-container-id-2 div.sk-label-container {text-align: center;}#sk-container-id-2 div.sk-container {/* jupyter's `normalize.less` sets `[hidden] { display: none; }` but bootstrap.min.css set `[hidden] { display: none !important; }` so we also need the `!important` here to be able to override the default hidden behavior on the sphinx rendered scikit-learn.org. See: https://github.com/scikit-learn/scikit-learn/issues/21755 */display: inline-block !important;position: relative;}#sk-container-id-2 div.sk-text-repr-fallback {display: none;}</style><div id=\"sk-container-id-2\" class=\"sk-top-container\"><div class=\"sk-text-repr-fallback\"><pre>LogisticRegression()</pre><b>In a Jupyter environment, please rerun this cell to show the HTML representation or trust the notebook. <br />On GitHub, the HTML representation is unable to render, please try loading this page with nbviewer.org.</b></div><div class=\"sk-container\" hidden><div class=\"sk-item\"><div class=\"sk-estimator sk-toggleable\"><input class=\"sk-toggleable__control sk-hidden--visually\" id=\"sk-estimator-id-2\" type=\"checkbox\" checked><label for=\"sk-estimator-id-2\" class=\"sk-toggleable__label sk-toggleable__label-arrow\">LogisticRegression</label><div class=\"sk-toggleable__content\"><pre>LogisticRegression()</pre></div></div></div></div></div>"
      ],
      "text/plain": [
       "LogisticRegression()"
      ]
     },
     "execution_count": 26,
     "metadata": {},
     "output_type": "execute_result"
    }
   ],
   "source": [
    "from sklearn.linear_model import LogisticRegression\n",
    "\n",
    "model = LogisticRegression()\n",
    "model.fit(X_train_tfidf, train_labels)\n"
   ]
  },
  {
   "cell_type": "markdown",
   "id": "c0f08fc9",
   "metadata": {},
   "source": [
    "### 6.2. Predict Sentiment"
   ]
  },
  {
   "cell_type": "code",
   "execution_count": 27,
   "id": "74827d40",
   "metadata": {},
   "outputs": [],
   "source": [
    "y_pred = model.predict(X_test_tfidf)"
   ]
  },
  {
   "cell_type": "markdown",
   "id": "743e552b",
   "metadata": {},
   "source": [
    "## 7. Evaluating Model Performance"
   ]
  },
  {
   "cell_type": "code",
   "execution_count": 28,
   "id": "eb96df26",
   "metadata": {},
   "outputs": [
    {
     "name": "stdout",
     "output_type": "stream",
     "text": [
      "Accuracy: 0.8782\n",
      "              precision    recall  f1-score   support\n",
      "\n",
      "    Negative       0.88      0.88      0.88     12500\n",
      "    Positive       0.88      0.88      0.88     12500\n",
      "\n",
      "    accuracy                           0.88     25000\n",
      "   macro avg       0.88      0.88      0.88     25000\n",
      "weighted avg       0.88      0.88      0.88     25000\n",
      "\n"
     ]
    }
   ],
   "source": [
    "from sklearn.metrics import accuracy_score, classification_report\n",
    "\n",
    "# Accuracy\n",
    "accuracy = accuracy_score(test_labels, y_pred)\n",
    "print(f'Accuracy: {accuracy:.4f}')\n",
    "\n",
    "# Classification Report\n",
    "report = classification_report(test_labels, y_pred, target_names=['Negative', 'Positive'])\n",
    "print(report)"
   ]
  },
  {
   "cell_type": "code",
   "execution_count": 13,
   "id": "662f0912",
   "metadata": {},
   "outputs": [
    {
     "data": {
      "image/png": "[encoded data removed]",
      "text/plain": [
       "<Figure size 640x480 with 2 Axes>"
      ]
     },
     "metadata": {},
     "output_type": "display_data"
    }
   ],
   "source": [
    "from sklearn.metrics import confusion_matrix\n",
    "import matplotlib.pyplot as plt\n",
    "import seaborn as sns\n",
    "\n",
    "cm = confusion_matrix(test_labels, y_pred)\n",
    "sns.heatmap(cm, annot=True, fmt='d', cmap='Blues', xticklabels=['Negative', 'Positive'], yticklabels=['Negative', 'Positive'])\n",
    "plt.xlabel('Predicted')\n",
    "plt.ylabel('Actual')\n",
    "plt.title('Confusion Matrix')\n",
    "plt.show()"
   ]
  },
  {
   "cell_type": "markdown",
   "id": "d62474f2",
   "metadata": {},
   "source": [
    "## 8. Conclusion and Further Steps\n",
    "\n",
    "Congratulations! You've completed a basic NLP tutorial using IMDb movie reviews. To enhance your skills, try more advanced techniques, explore different models, and consider working with larger datasets. Additionally, delve into advanced NLP tasks like named entity recognition, text summarization, and machine translation. Keep learning and experimenting!"
   ]
  },
  {
   "cell_type": "code",
   "execution_count": null,
   "id": "5f08f1bb",
   "metadata": {},
   "outputs": [],
   "source": []
  }
 ],
 "metadata": {
  "kernelspec": {
   "display_name": "Python 3 (ipykernel)",
   "language": "python",
   "name": "python3"
  },
  "language_info": {
   "codemirror_mode": {
    "name": "ipython",
    "version": 3
   },
   "file_extension": ".py",
   "mimetype": "text/x-python",
   "name": "python",
   "nbconvert_exporter": "python",
   "pygments_lexer": "ipython3",
   "version": "3.10.9"
  }
 },
 "nbformat": 4,
 "nbformat_minor": 5
}
